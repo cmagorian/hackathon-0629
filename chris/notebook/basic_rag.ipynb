{
 "cells": [
  {
   "cell_type": "markdown",
   "metadata": {},
   "source": [
    "# Setup"
   ]
  },
  {
   "cell_type": "code",
   "metadata": {
    "ExecuteTime": {
     "end_time": "2024-06-29T18:34:39.633819Z",
     "start_time": "2024-06-29T18:34:39.629747Z"
    }
   },
   "source": [
    "# OctoAI\n",
    "# ! pip install langchain langchain-community faiss-cpu sentence-transformers octoai-sdk langchain-text-splitters lxml tiktoken python-dotenv 'arize-phoenix[evals]'"
   ],
   "outputs": [],
   "execution_count": 108
  },
  {
   "cell_type": "code",
   "metadata": {
    "ExecuteTime": {
     "end_time": "2024-06-29T18:34:39.772867Z",
     "start_time": "2024-06-29T18:34:39.765870Z"
    }
   },
   "source": [
    "from dotenv import load_dotenv\n",
    "import os\n",
    "\n",
    "load_dotenv()\n",
    "OCTOAI_API_TOKEN = \"eyJhbGciOiJSUzI1NiIsInR5cCI6IkpXVCIsImtpZCI6IjNkMjMzOTQ5In0.eyJzdWIiOiJkNTY1Y2Q3YS0zYmNjLTQzNDgtOGQxYy1mMGY0ZjY0ODkyYzciLCJ0eXBlIjoidXNlckFjY2Vzc1Rva2VuIiwidGVuYW50SWQiOiJkMzRmOGVkZC1kMzE1LTQ4NTktOTc0Zi03MjJiMzNlNDA5ZDIiLCJ1c2VySWQiOiJhZTMxM2ExZS1lYTI3LTRkOTItYjk5OS1iOTNlY2Q0YjQ3NTgiLCJhcHBsaWNhdGlvbklkIjoiYTkyNmZlYmQtMjFlYS00ODdiLTg1ZjUtMzQ5NDA5N2VjODMzIiwicm9sZXMiOlsiRkVUQ0gtUk9MRVMtQlktQVBJIl0sInBlcm1pc3Npb25zIjpbIkZFVENILVBFUk1JU1NJT05TLUJZLUFQSSJdLCJhdWQiOiIzZDIzMzk0OS1hMmZiLTRhYjAtYjdlYy00NmY2MjU1YzUxMGUiLCJpc3MiOiJodHRwczovL2lkZW50aXR5Lm9jdG8uYWkiLCJpYXQiOjE3MTk2Nzg3NTl9.m3RpRr3vLoGekWhvk1fXHlTBAg1fkkO2V2eMfXddjLf30taFXnAOLoJIWHsGLupliLVW3JL9_wxPRhL2cGpDH_1_PeWDUYxKk_ZY1RjL9s_yoJf7fGeEy9-VPbmvjfYXcQTa_sxE99GeqwaODud26e_O04Q9n2KiNSwdeeion6ki9ctpIbDXZ3Wit_ltumGY0axDRInfm_QHwvo92r4W-3g8jN4lskS7ZA7CT5LCRq7GzFs5E2HsZq-59RnVhxnray6nG5fyG3U67Ff0ZCTuRaDY2DqRDOgQw1zRqTYMoW8zeOfozRxlGygdRcRU3AxnUOGOi7yijetkE9I60H9qlg\""
   ],
   "outputs": [],
   "execution_count": 109
  },
  {
   "cell_type": "markdown",
   "metadata": {},
   "source": [
    "# Ingest Data"
   ]
  },
  {
   "cell_type": "code",
   "metadata": {
    "ExecuteTime": {
     "end_time": "2024-06-29T18:34:39.802429Z",
     "start_time": "2024-06-29T18:34:39.775188Z"
    }
   },
   "source": [
    "from langchain.text_splitter import CharacterTextSplitter\n",
    "from langchain.schema import Document"
   ],
   "outputs": [],
   "execution_count": 110
  },
  {
   "cell_type": "code",
   "metadata": {
    "ExecuteTime": {
     "end_time": "2024-06-29T18:34:39.838505Z",
     "start_time": "2024-06-29T18:34:39.806803Z"
    }
   },
   "source": [
    "files = os.listdir(\"../workout_data\")\n",
    "file_texts = []\n",
    "for file in files:\n",
    "    with open(f\"../workout_data/{file}\") as f:\n",
    "        file_text = f.read()\n",
    "    text_splitter = CharacterTextSplitter.from_tiktoken_encoder(\n",
    "        chunk_size=512, chunk_overlap=64, \n",
    "    )\n",
    "    texts = text_splitter.split_text(file_text)\n",
    "    for i, chunked_text in enumerate(texts):\n",
    "        file_texts.append(Document(page_content=chunked_text, \n",
    "                metadata={\"doc_title\": file.split(\".\")[0], \"chunk_num\": i}))"
   ],
   "outputs": [
    {
     "name": "stderr",
     "output_type": "stream",
     "text": [
      "Created a chunk of size 626, which is longer than the specified 512\n",
      "Created a chunk of size 676, which is longer than the specified 512\n"
     ]
    }
   ],
   "execution_count": 111
  },
  {
   "cell_type": "code",
   "metadata": {
    "ExecuteTime": {
     "end_time": "2024-06-29T18:34:39.845065Z",
     "start_time": "2024-06-29T18:34:39.840910Z"
    }
   },
   "source": [
    "from langchain_community.embeddings import HuggingFaceEmbeddings\n",
    "from langchain.vectorstores import FAISS"
   ],
   "outputs": [],
   "execution_count": 112
  },
  {
   "cell_type": "code",
   "metadata": {
    "ExecuteTime": {
     "end_time": "2024-06-29T18:34:41.195598Z",
     "start_time": "2024-06-29T18:34:39.846771Z"
    }
   },
   "source": [
    "embeddings = HuggingFaceEmbeddings()"
   ],
   "outputs": [],
   "execution_count": 113
  },
  {
   "cell_type": "code",
   "metadata": {
    "ExecuteTime": {
     "end_time": "2024-06-29T18:34:54.003444Z",
     "start_time": "2024-06-29T18:34:41.200064Z"
    }
   },
   "source": [
    "vector_store = FAISS.from_documents(\n",
    "    file_texts,\n",
    "    embedding=embeddings\n",
    ")"
   ],
   "outputs": [],
   "execution_count": 114
  },
  {
   "cell_type": "markdown",
   "metadata": {},
   "source": [
    "# Search the Data"
   ]
  },
  {
   "cell_type": "code",
   "metadata": {
    "ExecuteTime": {
     "end_time": "2024-06-29T18:34:54.161932Z",
     "start_time": "2024-06-29T18:34:54.005653Z"
    }
   },
   "source": [
    "from langchain_community.llms.octoai_endpoint import OctoAIEndpoint\n",
    "llm = OctoAIEndpoint(\n",
    "        model=\"mixtral-8x7b-instruct\",\n",
    "        max_tokens=4096,\n",
    "        presence_penalty=0,\n",
    "        temperature=0,\n",
    "        top_p=0.9,\n",
    "        octoai_api_token=OCTOAI_API_TOKEN\n",
    "    )"
   ],
   "outputs": [
    {
     "name": "stderr",
     "output_type": "stream",
     "text": [
      "/home/cmagorian/Storage/repos/hackathon-0629/.venv/lib/python3.10/site-packages/langchain_core/utils/utils.py:161: UserWarning: WARNING! model is not default parameter.\n",
      "                model was transferred to model_kwargs.\n",
      "                Please confirm that model is what you intended.\n",
      "  warnings.warn(\n"
     ]
    }
   ],
   "execution_count": 115
  },
  {
   "cell_type": "code",
   "metadata": {
    "ExecuteTime": {
     "end_time": "2024-06-29T18:34:54.169911Z",
     "start_time": "2024-06-29T18:34:54.164966Z"
    }
   },
   "source": [
    "retriever = vector_store.as_retriever()"
   ],
   "outputs": [],
   "execution_count": 116
  },
  {
   "cell_type": "code",
   "metadata": {
    "ExecuteTime": {
     "end_time": "2024-06-29T18:34:54.193986Z",
     "start_time": "2024-06-29T18:34:54.171960Z"
    }
   },
   "source": [
    "from langchain.prompts import ChatPromptTemplate\n",
    "template=\"\"\"You are a data analyst. You will be given unstructured data texts and figure out the schema. Return the schema. Be as general as possible so the schema can be used on most data input. Return the schema as PostgreSQL CREATE TABLE query. If possible, create multiple tables and relations between them when you see fit.\n",
    "Document: {question} \n",
    "Context: {context} \n",
    "Answer:\"\"\"\n",
    "prompt = ChatPromptTemplate.from_template(template)"
   ],
   "outputs": [],
   "execution_count": 117
  },
  {
   "cell_type": "code",
   "metadata": {
    "ExecuteTime": {
     "end_time": "2024-06-29T18:34:54.207972Z",
     "start_time": "2024-06-29T18:34:54.197318Z"
    }
   },
   "source": [
    "from langchain_core.runnables import RunnablePassthrough\n",
    "from langchain_core.output_parsers import StrOutputParser\n",
    "chain = (\n",
    "    {\"context\": retriever, \"question\": RunnablePassthrough()}\n",
    "    | prompt\n",
    "    | llm\n",
    "    | StrOutputParser()\n",
    ")"
   ],
   "outputs": [],
   "execution_count": 118
  },
  {
   "cell_type": "code",
   "metadata": {
    "ExecuteTime": {
     "end_time": "2024-06-29T18:35:11.201645Z",
     "start_time": "2024-06-29T18:34:54.210098Z"
    }
   },
   "source": [
    "print(chain.invoke(\"Show me the schema creation script\"))"
   ],
   "outputs": [
    {
     "name": "stdout",
     "output_type": "stream",
     "text": [
      " \n",
      "-- Table: equipment\n",
      "equipment_id SERIAL PRIMARY KEY,\n",
      "equipment_name VARCHAR(255) NOT NULL;\n",
      "\n",
      "-- Table: exercise\n",
      "exercise_id SERIAL PRIMARY KEY,\n",
      "exercise_name VARCHAR(255) NOT NULL,\n",
      "equipment_id INTEGER REFERENCES equipment(equipment_id);\n",
      "\n",
      "-- Table: workout\n",
      "workout_id SERIAL PRIMARY KEY,\n",
      "workout_name VARCHAR(255) NOT NULL;\n",
      "\n",
      "-- Table: workout_exercise\n",
      "workout_exercise_id SERIAL PRIMARY KEY,\n",
      "workout_id INTEGER REFERENCES workout(workout_id),\n",
      "exercise_id INTEGER REFERENCES exercise(exercise_id),\n",
      "sets INTEGER NOT NULL,\n",
      "reps INTEGER NOT NULL;\n",
      "\n",
      "-- Table: day\n",
      "day_id SERIAL PRIMARY KEY,\n",
      "day_number INTEGER NOT NULL,\n",
      "workout_id INTEGER REFERENCES workout(workout_id);\n",
      "\n",
      "INSERT INTO equipment (equipment_name) VALUES ('gym'), ('dumbbells'), ('barbell'), ('cable'), ('machine');\n",
      "\n",
      "INSERT INTO exercise (exercise_name, equipment_id) VALUES \n",
      "('barbell back squats', 3),\n",
      "('flat barbell bench press', 2),\n",
      "('seated cable rows', 4),\n",
      "('seated dumbbell shoulder press', 2),\n",
      "('cable rope triceps pushdowns', 4),\n",
      "('lateral raises', 2),\n",
      "('seated calf raises', 2),\n",
      "('planks', 1),\n",
      "('barbell or trap bar deadlifts', 3),\n",
      "('pullups or lat pulldowns', 4),\n",
      "('barbell or dumbbell incline press', 2),\n",
      "('machine shoulder press', 4),\n",
      "('barbell or dumbbell biceps curls', 2),\n",
      "('reverse machine fly', 4),\n",
      "('standing calf raises', 2),\n",
      "('leg press', 2),\n",
      "('T-bar rows', 4),\n",
      "('machine or dumbbell chest fly', 2),\n",
      "('one-arm dumbbell shoulder press', 2),\n",
      "('dumbbell or machine triceps extensions', 2),\n",
      "('cable or dumbbell front raises', 2),\n",
      "('decline crunches', 1),\n",
      "('barbell deadlift', 3),\n",
      "('barbell hip thrusts', 1),\n",
      "('Romanian dumbbell deadlifts', 2),\n",
      "('lying leg curls', 1),\n",
      "('hyperextensions', 4),\n",
      "('machine preacher curls', 4),\n",
      "('barbell shrugs', 3),\n",
      "('seated calf raises', 2),\n",
      "('face pulls', 4),\n",
      "('overhead press', 3),\n",
      "('incline dumbbell bench press', 2),\n",
      "('one-arm cable rows', 4),\n",
      "('cable lateral raises', 4),\n",
      "('dumbbell shrugs', 2),\n",
      "('machine preacher curls', 4),\n",
      "('barbell front squats', 3),\n",
      "('glute ham raises', 1),\n",
      "('walking dumbbell lunges', 2),\n",
      "('seated leg extensions', 1),\n",
      "('hanging leg raises', 1);\n",
      "\n",
      "INSERT INTO workout (workout_name) VALUES \n",
      "('Full body'),\n",
      "('Upper body'),\n",
      "('Lower body');\n",
      "\n",
      "INSERT INTO workout_exercise (workout_id, exercise_id, sets, reps) VALUES \n",
      "(1, 1, 3, 5),\n",
      "(1, 2, 3, 5),\n",
      "(1, 3, 3, 6-8),\n",
      "(1, 4, 3, 6-8),\n",
      "(1, 5, 3, 8-10),\n",
      "(1, 6, 3, 10-12),\n",
      "(1, 7, 3, 10-12),\n",
      "(1, 8, 3, 30),\n",
      "(2, 9, 4, 6-8),\n",
      "(2, 10, 3, 6-8),\n",
      "(2, 11, 3, 8-10),\n",
      "(2, 12, 3, 8-10),\n",
      "(2, 13, 3, 10-12),\n",
      "(2, 14, 3, 10-12),\n",
      "(2, 15, 3, 10-12),\n",
      "(2, 16, 4, 12-15),\n",
      "(3, 17, 3, 6-8),\n",
      "(3, 18, 3, 8-10),\n",
      "(3, 19, 3, 10-12),\n",
      "(3, 20, 3, 10-12),\n",
      "(3, 21, 3, 10-12),\n",
      "(3, 22, 3, 10-12),\n",
      "(3, 23, 3, 10-12),\n",
      "(3, 24, 4, 12-15);\n",
      "\n",
      "INSERT INTO day (day_number, workout_id) VALUES \n",
      "(1, 1),\n",
      "(2, 1),\n",
      "(3, 1),\n",
      "(1, 2),\n",
      "(2, 2),\n",
      "(3, 2),\n",
      "(1, 3),\n",
      "(2, 3),\n",
      "(3, 3);\n"
     ]
    }
   ],
   "execution_count": 119
  },
  {
   "cell_type": "code",
   "metadata": {
    "ExecuteTime": {
     "end_time": "2024-06-29T18:35:11.207446Z",
     "start_time": "2024-06-29T18:35:11.204299Z"
    }
   },
   "source": [],
   "outputs": [],
   "execution_count": 119
  }
 ],
 "metadata": {
  "kernelspec": {
   "display_name": "rcbs",
   "language": "python",
   "name": "python3"
  },
  "language_info": {
   "codemirror_mode": {
    "name": "ipython",
    "version": 3
   },
   "file_extension": ".py",
   "mimetype": "text/x-python",
   "name": "python",
   "nbconvert_exporter": "python",
   "pygments_lexer": "ipython3",
   "version": "3.11.4"
  }
 },
 "nbformat": 4,
 "nbformat_minor": 2
}
