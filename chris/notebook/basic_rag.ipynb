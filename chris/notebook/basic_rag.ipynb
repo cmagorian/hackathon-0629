{
 "cells": [
  {
   "cell_type": "markdown",
   "metadata": {},
   "source": [
    "# Setup"
   ]
  },
  {
   "cell_type": "code",
   "metadata": {
    "ExecuteTime": {
     "end_time": "2024-06-29T20:38:30.173286Z",
     "start_time": "2024-06-29T20:38:30.171004Z"
    }
   },
   "source": [
    "# OctoAI\n",
    "# ! pip install langchain langchain-community faiss-cpu sentence-transformers octoai-sdk langchain-text-splitters lxml tiktoken python-dotenv 'arize-phoenix[evals]'"
   ],
   "outputs": [],
   "execution_count": 201
  },
  {
   "cell_type": "code",
   "metadata": {
    "ExecuteTime": {
     "end_time": "2024-06-29T20:38:30.194778Z",
     "start_time": "2024-06-29T20:38:30.181514Z"
    }
   },
   "source": [
    "import octoai\n",
    "from dotenv import load_dotenv\n",
    "import os\n",
    "\n",
    "load_dotenv()\n",
    "OCTOAI_API_TOKEN = \"eyJhbGciOiJSUzI1NiIsInR5cCI6IkpXVCIsImtpZCI6IjNkMjMzOTQ5In0.eyJzdWIiOiJkNTY1Y2Q3YS0zYmNjLTQzNDgtOGQxYy1mMGY0ZjY0ODkyYzciLCJ0eXBlIjoidXNlckFjY2Vzc1Rva2VuIiwidGVuYW50SWQiOiJkMzRmOGVkZC1kMzE1LTQ4NTktOTc0Zi03MjJiMzNlNDA5ZDIiLCJ1c2VySWQiOiJhZTMxM2ExZS1lYTI3LTRkOTItYjk5OS1iOTNlY2Q0YjQ3NTgiLCJhcHBsaWNhdGlvbklkIjoiYTkyNmZlYmQtMjFlYS00ODdiLTg1ZjUtMzQ5NDA5N2VjODMzIiwicm9sZXMiOlsiRkVUQ0gtUk9MRVMtQlktQVBJIl0sInBlcm1pc3Npb25zIjpbIkZFVENILVBFUk1JU1NJT05TLUJZLUFQSSJdLCJhdWQiOiIzZDIzMzk0OS1hMmZiLTRhYjAtYjdlYy00NmY2MjU1YzUxMGUiLCJpc3MiOiJodHRwczovL2lkZW50aXR5Lm9jdG8uYWkiLCJpYXQiOjE3MTk2Nzg3NTl9.m3RpRr3vLoGekWhvk1fXHlTBAg1fkkO2V2eMfXddjLf30taFXnAOLoJIWHsGLupliLVW3JL9_wxPRhL2cGpDH_1_PeWDUYxKk_ZY1RjL9s_yoJf7fGeEy9-VPbmvjfYXcQTa_sxE99GeqwaODud26e_O04Q9n2KiNSwdeeion6ki9ctpIbDXZ3Wit_ltumGY0axDRInfm_QHwvo92r4W-3g8jN4lskS7ZA7CT5LCRq7GzFs5E2HsZq-59RnVhxnray6nG5fyG3U67Ff0ZCTuRaDY2DqRDOgQw1zRqTYMoW8zeOfozRxlGygdRcRU3AxnUOGOi7yijetkE9I60H9qlg\""
   ],
   "outputs": [],
   "execution_count": 202
  },
  {
   "cell_type": "markdown",
   "metadata": {},
   "source": [
    "# Ingest Data"
   ]
  },
  {
   "cell_type": "code",
   "metadata": {
    "ExecuteTime": {
     "end_time": "2024-06-29T20:38:30.210934Z",
     "start_time": "2024-06-29T20:38:30.207320Z"
    }
   },
   "source": [
    "from langchain.text_splitter import CharacterTextSplitter\n",
    "from langchain.schema import Document"
   ],
   "outputs": [],
   "execution_count": 203
  },
  {
   "cell_type": "code",
   "metadata": {
    "ExecuteTime": {
     "end_time": "2024-06-29T20:38:30.228707Z",
     "start_time": "2024-06-29T20:38:30.211600Z"
    }
   },
   "source": [
    "files = os.listdir(\"../workout_data\")\n",
    "file_texts = []\n",
    "for file in files:\n",
    "    with open(f\"../workout_data/{file}\") as f:\n",
    "        file_text = f.read()\n",
    "    text_splitter = CharacterTextSplitter.from_tiktoken_encoder(\n",
    "        chunk_size=1024, chunk_overlap=128, \n",
    "    )\n",
    "    texts = text_splitter.split_text(file_text)\n",
    "    for i, chunked_text in enumerate(texts):\n",
    "        file_texts.append(Document(page_content=chunked_text, \n",
    "                metadata={\"doc_title\": file.split(\".\")[0], \"chunk_num\": i}))"
   ],
   "outputs": [],
   "execution_count": 204
  },
  {
   "cell_type": "code",
   "metadata": {
    "ExecuteTime": {
     "end_time": "2024-06-29T20:38:30.233475Z",
     "start_time": "2024-06-29T20:38:30.229413Z"
    }
   },
   "source": [
    "from langchain_community.embeddings import HuggingFaceEmbeddings\n",
    "from langchain.vectorstores import FAISS"
   ],
   "outputs": [],
   "execution_count": 205
  },
  {
   "cell_type": "code",
   "metadata": {
    "ExecuteTime": {
     "end_time": "2024-06-29T20:38:31.499413Z",
     "start_time": "2024-06-29T20:38:30.234297Z"
    }
   },
   "source": [
    "embeddings = HuggingFaceEmbeddings()"
   ],
   "outputs": [],
   "execution_count": 206
  },
  {
   "cell_type": "code",
   "metadata": {
    "ExecuteTime": {
     "end_time": "2024-06-29T20:38:33.775261Z",
     "start_time": "2024-06-29T20:38:31.500768Z"
    }
   },
   "source": [
    "vector_store = FAISS.from_documents(\n",
    "    file_texts,\n",
    "    embedding=embeddings\n",
    ")"
   ],
   "outputs": [],
   "execution_count": 207
  },
  {
   "cell_type": "markdown",
   "metadata": {},
   "source": [
    "# Search the Data"
   ]
  },
  {
   "cell_type": "code",
   "metadata": {
    "ExecuteTime": {
     "end_time": "2024-06-29T20:38:33.852479Z",
     "start_time": "2024-06-29T20:38:33.776231Z"
    }
   },
   "source": [
    "from langchain_community.llms.octoai_endpoint import OctoAIEndpoint\n",
    "llm = OctoAIEndpoint(\n",
    "        model=\"mixtral-8x7b-instruct\",\n",
    "        max_tokens=8192,\n",
    "        presence_penalty=0,\n",
    "        temperature=0,\n",
    "        top_p=0.95,\n",
    "        octoai_api_token=OCTOAI_API_TOKEN\n",
    "    )"
   ],
   "outputs": [
    {
     "name": "stderr",
     "output_type": "stream",
     "text": [
      "/home/cmagorian/Storage/repos/hackathon-0629/.venv/lib/python3.10/site-packages/langchain_core/utils/utils.py:161: UserWarning: WARNING! model is not default parameter.\n",
      "                model was transferred to model_kwargs.\n",
      "                Please confirm that model is what you intended.\n",
      "  warnings.warn(\n"
     ]
    }
   ],
   "execution_count": 208
  },
  {
   "cell_type": "code",
   "metadata": {
    "ExecuteTime": {
     "end_time": "2024-06-29T20:38:33.855864Z",
     "start_time": "2024-06-29T20:38:33.853670Z"
    }
   },
   "source": [
    "retriever = vector_store.as_retriever()"
   ],
   "outputs": [],
   "execution_count": 209
  },
  {
   "cell_type": "code",
   "metadata": {
    "ExecuteTime": {
     "end_time": "2024-06-29T20:56:36.654733Z",
     "start_time": "2024-06-29T20:56:36.649354Z"
    }
   },
   "source": [
    "from langchain.prompts import ChatPromptTemplate\n",
    "template=\"\"\"You are a data analyst. You will be given unstructured data texts and figure out the schema. Return the schema. Be as general as possible so the schema can be used on most data input. Return the schema as Pydantic model code. If possible, create multiple tables and relations between them when you see fit. Only output a code segment. Do not provide Sample usage or comments.\n",
    "Document: {question} \n",
    "Context: {context} \n",
    "Answer:\"\"\"\n",
    "prompt = ChatPromptTemplate.from_template(template)"
   ],
   "outputs": [],
   "execution_count": 225
  },
  {
   "cell_type": "code",
   "metadata": {
    "ExecuteTime": {
     "end_time": "2024-06-29T20:56:37.893448Z",
     "start_time": "2024-06-29T20:56:37.888942Z"
    }
   },
   "source": [
    "from langchain_core.runnables import RunnablePassthrough\n",
    "from langchain_core.output_parsers import PydanticOutputParser, StrOutputParser\n",
    "chain = (\n",
    "    {\"context\": retriever, \"question\": RunnablePassthrough()}\n",
    "    | prompt\n",
    "    | llm\n",
    "    | StrOutputParser()\n",
    ")"
   ],
   "outputs": [],
   "execution_count": 226
  },
  {
   "cell_type": "code",
   "metadata": {
    "ExecuteTime": {
     "end_time": "2024-06-29T20:59:13.621683Z",
     "start_time": "2024-06-29T20:59:04.616716Z"
    }
   },
   "source": [
    "response = chain.invoke(\"Show me the table schema creation script\")\n",
    "print(response)\n",
    "\n"
   ],
   "outputs": [
    {
     "name": "stdout",
     "output_type": "stream",
     "text": [
      " ```python\n",
      "from typing import List\n",
      "from pydantic import BaseModel\n",
      "\n",
      "class Exercise(BaseModel):\n",
      "    name: str\n",
      "    sets: int\n",
      "    reps: int\n",
      "\n",
      "class Workout(BaseModel):\n",
      "    day: int\n",
      "    exercises: List[Exercise]\n",
      "\n",
      "class Program(BaseModel):\n",
      "    name: str\n",
      "    workouts: List[Workout]\n",
      "\n",
      "# Define the program schema\n",
      "program = Program(\n",
      "    name=\"Gym Workout Program\",\n",
      "    workouts=[\n",
      "        Workout(\n",
      "            day=1,\n",
      "            exercises=[\n",
      "                Exercise(name=\"Squats\", sets=3, reps=8),\n",
      "                Exercise(name=\"Deadlifts\", sets=3, reps=8),\n",
      "                Exercise(name=\"Lunges\", sets=3, reps=10),\n",
      "                Exercise(name=\"Leg press\", sets=3, reps=10),\n",
      "                Exercise(name=\"Calf raises\", sets=3, reps=15),\n",
      "            ]\n",
      "        ),\n",
      "        Workout(\n",
      "            day=2,\n",
      "            exercises=[\n",
      "                Exercise(name=\"Plank\", sets=3, reps=30),\n",
      "                Exercise(name=\"Bicycle crunches\", sets=3, reps=20),\n",
      "                Exercise(name=\"Russian twists\", sets=3, reps=20),\n",
      "                Exercise(name=\"Leg raises\", sets=3, reps=15),\n",
      "            ]\n",
      "        ),\n",
      "        Workout(\n",
      "            day=3,\n",
      "            exercises=[\n",
      "                Exercise(name=\"Squat to overhead press\", sets=3, reps=8),\n",
      "                Exercise(name=\"Deadlift to row\", sets=3, reps=8),\n",
      "                Exercise(name=\"Push-ups\", sets=3, reps=10),\n",
      "                Exercise(name=\"Pull-ups or lat pull-downs\", sets=3, reps=10),\n",
      "                Exercise(name=\"Plank rows\", sets=3, reps=10),\n",
      "            ]\n",
      "        ),\n",
      "        Workout(\n",
      "            day=4,\n",
      "            exercises=[\n",
      "                Exercise(name=\"Elliptical\", sets=1, reps=30),\n",
      "                Exercise(name=\"Plank\", sets=3, reps=30),\n",
      "                Exercise(name=\"Bicycle crunches\", sets=3, reps=20),\n",
      "                Exercise(name=\"Russian twists\", sets=3, reps=20),\n",
      "                Exercise(name=\"Leg raises\", sets=3, reps=15),\n",
      "            ]\n",
      "        ),\n",
      "        Workout(\n",
      "            day=5,\n",
      "            exercises=[\n",
      "                Exercise(name=\"Stair climber\", sets=1, reps=30),\n",
      "                Exercise(name=\"Plank\", sets=3, reps=30),\n",
      "                Exercise(name=\"Bicycle crunches\", sets=3, reps=20),\n",
      "                Exercise(name=\"Russian twists\", sets=3, reps=20),\n",
      "                Exercise(name=\"Leg raises\", sets=3, reps=15),\n",
      "            ]\n",
      "        ),\n",
      "    ]\n",
      ")\n",
      "```\n"
     ]
    }
   ],
   "execution_count": 232
  },
  {
   "cell_type": "code",
   "metadata": {
    "ExecuteTime": {
     "end_time": "2024-06-29T20:55:14.309583Z",
     "start_time": "2024-06-29T20:55:13.445565Z"
    }
   },
   "source": [
    "from langchain_core.messages import ChatMessage\n",
    "from octoai.client import OctoAI\n",
    "from clients.ollm import ChatCompletionResponseFormat\n",
    "from typing import List\n",
    "from pydantic import BaseModel\n",
    "\n",
    "class Exercise(BaseModel):\n",
    "    name: str\n",
    "    sets: int\n",
    "    reps: int\n",
    "\n",
    "class Workout(BaseModel):\n",
    "    day: int\n",
    "    exercises: List[Exercise]\n",
    "\n",
    "class Program(BaseModel):\n",
    "    name: str\n",
    "    workouts: List[Workout]\n",
    "\n",
    "all_classes = [Exercise, Workout, Program]\n",
    "client = OctoAI(api_key=OCTOAI_API_TOKEN)\n",
    "completion = client.text_gen.create_chat_completion(\n",
    "    model=\"mistral-7b-instruct\",\n",
    "    messages=[ChatMessage(role=\"system\", content=\"You are a helpful assistant designed to output JSON.\"),\n",
    "                ChatMessage(role=\"user\", content=\"I bench pressed 95 lbs for 3 sets of 5 reps each today, and I squatted 135 lbs for 3 sets of 10. Please record this.\")],\n",
    "    max_tokens=512,\n",
    "    presence_penalty=0,\n",
    "    temperature=0.1,\n",
    "    top_p=0.9,\n",
    "    response_format=ChatCompletionResponseFormat(\n",
    "        type=\"json_object\",\n",
    "        schema=Workout.model_json_schema(),\n",
    "    ),\n",
    ")\n",
    "print(completion.choices[0].message.content)\n"
   ],
   "outputs": [
    {
     "name": "stdout",
     "output_type": "stream",
     "text": [
      "{\"answer\": \"I bench pressed 95 lbs for 3 sets of 5 reps each and squatted 135 lbs for 3 sets of 10 reps today.\"}\n"
     ]
    }
   ],
   "execution_count": 219
  },
  {
   "metadata": {
    "ExecuteTime": {
     "end_time": "2024-06-29T20:38:36.520276Z",
     "start_time": "2024-06-29T20:38:36.518358Z"
    }
   },
   "cell_type": "code",
   "source": "",
   "outputs": [],
   "execution_count": 213
  }
 ],
 "metadata": {
  "kernelspec": {
   "display_name": "rcbs",
   "language": "python",
   "name": "python3"
  },
  "language_info": {
   "codemirror_mode": {
    "name": "ipython",
    "version": 3
   },
   "file_extension": ".py",
   "mimetype": "text/x-python",
   "name": "python",
   "nbconvert_exporter": "python",
   "pygments_lexer": "ipython3",
   "version": "3.11.4"
  }
 },
 "nbformat": 4,
 "nbformat_minor": 2
}
